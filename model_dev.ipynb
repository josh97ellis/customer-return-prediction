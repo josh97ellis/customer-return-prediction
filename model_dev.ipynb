{
 "cells": [
  {
   "cell_type": "code",
   "execution_count": 52,
   "metadata": {},
   "outputs": [],
   "source": [
    "import pandas as pd\n",
    "import numpy as np\n",
    "import matplotlib.pyplot as plt\n",
    "import seaborn as sns\n",
    "from copy import deepcopy\n",
    "\n",
    "train_df = pd.read_csv(\"data/train.csv\")\n",
    "train_df.drop(columns='id', inplace=True)\n",
    "\n",
    "X_train = train_df.iloc[:, :-1]"
   ]
  },
  {
   "cell_type": "code",
   "execution_count": 53,
   "metadata": {},
   "outputs": [],
   "source": [
    "def date_converter(df):\n",
    "    df = deepcopy(df)\n",
    "    for col in ['orderDate', 'deliveryDate', 'dateOfBirth', 'creationDate']:\n",
    "        df[col] = pd.to_datetime(df[col], errors='coerce')\n",
    "    return df\n",
    "\n",
    "\n",
    "def get_age_at_order(df):\n",
    "    df = deepcopy(df)\n",
    "    df['age_at_order'] = np.floor((df['orderDate'] - df['dateOfBirth']) / np.timedelta64(1, 'Y'))\n",
    "    return df"
   ]
  },
  {
   "cell_type": "code",
   "execution_count": 54,
   "metadata": {},
   "outputs": [],
   "source": [
    "X_train_clean = date_converter(X_train)\n",
    "X_train_clean = get_age_at_order(X_train_clean)"
   ]
  },
  {
   "cell_type": "code",
   "execution_count": 56,
   "metadata": {},
   "outputs": [
    {
     "data": {
      "text/plain": [
       "<seaborn.axisgrid.FacetGrid at 0x1f3c1d7ac10>"
      ]
     },
     "execution_count": 56,
     "metadata": {},
     "output_type": "execute_result"
    },
    {
     "data": {
      "image/png": "[encoded data removed]",
      "text/plain": [
       "<Figure size 360x360 with 1 Axes>"
      ]
     },
     "metadata": {
      "needs_background": "light"
     },
     "output_type": "display_data"
    }
   ],
   "source": [
    "sns.displot(X_train_clean['age_at_order'])"
   ]
  }
 ],
 "metadata": {
  "kernelspec": {
   "display_name": "base",
   "language": "python",
   "name": "python3"
  },
  "language_info": {
   "codemirror_mode": {
    "name": "ipython",
    "version": 3
   },
   "file_extension": ".py",
   "mimetype": "text/x-python",
   "name": "python",
   "nbconvert_exporter": "python",
   "pygments_lexer": "ipython3",
   "version": "3.9.12"
  },
  "orig_nbformat": 4,
  "vscode": {
   "interpreter": {
    "hash": "d91ad60468a3464f3c1eb73e0a5661e9f7ddd3b2861a7d5c2802f6012752bd8d"
   }
  }
 },
 "nbformat": 4,
 "nbformat_minor": 2
}
